{
 "cells": [
  {
   "cell_type": "code",
   "execution_count": 1,
   "metadata": {},
   "outputs": [
    {
     "name": "stdout",
     "output_type": "stream",
     "text": [
      "2.6.0\n",
      "WARNING:tensorflow:From /var/folders/jr/017d8q8145z52wbhxmqqxxkc0000gn/T/ipykernel_38588/4273025275.py:6: is_gpu_available (from tensorflow.python.framework.test_util) is deprecated and will be removed in a future version.\n",
      "Instructions for updating:\n",
      "Use `tf.config.list_physical_devices('GPU')` instead.\n"
     ]
    },
    {
     "name": "stderr",
     "output_type": "stream",
     "text": [
      "2021-11-03 14:11:24.624278: I tensorflow/core/platform/cpu_feature_guard.cc:142] This TensorFlow binary is optimized with oneAPI Deep Neural Network Library (oneDNN) to use the following CPU instructions in performance-critical operations:  AVX2 FMA\n",
      "To enable them in other operations, rebuild TensorFlow with the appropriate compiler flags.\n"
     ]
    },
    {
     "data": {
      "text/plain": [
       "False"
      ]
     },
     "execution_count": 1,
     "metadata": {},
     "output_type": "execute_result"
    }
   ],
   "source": [
    "import tensorflow as tf\n",
    "import numpy as np\n",
    "import matplotlib.pyplot as plt\n",
    "import pandas as pd\n",
    "print(tf.__version__)\n",
    "tf.test.is_gpu_available()\n",
    "plt.style.use('seaborn')"
   ]
  },
  {
   "cell_type": "code",
   "execution_count": 2,
   "metadata": {},
   "outputs": [
    {
     "name": "stdout",
     "output_type": "stream",
     "text": [
      "Train: X: (60000, 28, 28)    y: (60000,)\n",
      "Test: X: (10000, 28, 28)    y: (10000,)\n"
     ]
    }
   ],
   "source": [
    "# Import Dataset\n",
    "(trainX, trainY), (testX, testY) = tf.keras.datasets.fashion_mnist.load_data()\n",
    "print(f\"Train: X: {trainX.shape}    y: {trainY.shape}\")\n",
    "print(f\"Test: X: {testX.shape}    y: {testY.shape}\")"
   ]
  },
  {
   "cell_type": "code",
   "execution_count": 3,
   "metadata": {},
   "outputs": [
    {
     "data": {
      "text/plain": [
       "<AxesSubplot:>"
      ]
     },
     "execution_count": 3,
     "metadata": {},
     "output_type": "execute_result"
    },
    {
     "data": {
      "text/plain": [
       "<matplotlib.image.AxesImage at 0x7fcb2e462ac0>"
      ]
     },
     "execution_count": 3,
     "metadata": {},
     "output_type": "execute_result"
    },
    {
     "data": {
      "text/plain": [
       "<AxesSubplot:>"
      ]
     },
     "execution_count": 3,
     "metadata": {},
     "output_type": "execute_result"
    },
    {
     "data": {
      "text/plain": [
       "<matplotlib.image.AxesImage at 0x7fcb10783d30>"
      ]
     },
     "execution_count": 3,
     "metadata": {},
     "output_type": "execute_result"
    },
    {
     "data": {
      "text/plain": [
       "<AxesSubplot:>"
      ]
     },
     "execution_count": 3,
     "metadata": {},
     "output_type": "execute_result"
    },
    {
     "data": {
      "text/plain": [
       "<matplotlib.image.AxesImage at 0x7fcb107ec460>"
      ]
     },
     "execution_count": 3,
     "metadata": {},
     "output_type": "execute_result"
    },
    {
     "data": {
      "text/plain": [
       "<AxesSubplot:>"
      ]
     },
     "execution_count": 3,
     "metadata": {},
     "output_type": "execute_result"
    },
    {
     "data": {
      "text/plain": [
       "<matplotlib.image.AxesImage at 0x7fcb15c85fa0>"
      ]
     },
     "execution_count": 3,
     "metadata": {},
     "output_type": "execute_result"
    },
    {
     "data": {
      "text/plain": [
       "<AxesSubplot:>"
      ]
     },
     "execution_count": 3,
     "metadata": {},
     "output_type": "execute_result"
    },
    {
     "data": {
      "text/plain": [
       "<matplotlib.image.AxesImage at 0x7fcb15cc3700>"
      ]
     },
     "execution_count": 3,
     "metadata": {},
     "output_type": "execute_result"
    },
    {
     "data": {
      "text/plain": [
       "<AxesSubplot:>"
      ]
     },
     "execution_count": 3,
     "metadata": {},
     "output_type": "execute_result"
    },
    {
     "data": {
      "text/plain": [
       "<matplotlib.image.AxesImage at 0x7fcb15d061f0>"
      ]
     },
     "execution_count": 3,
     "metadata": {},
     "output_type": "execute_result"
    },
    {
     "data": {
      "text/plain": [
       "<AxesSubplot:>"
      ]
     },
     "execution_count": 3,
     "metadata": {},
     "output_type": "execute_result"
    },
    {
     "data": {
      "text/plain": [
       "<matplotlib.image.AxesImage at 0x7fcb15d064f0>"
      ]
     },
     "execution_count": 3,
     "metadata": {},
     "output_type": "execute_result"
    },
    {
     "data": {
      "text/plain": [
       "<AxesSubplot:>"
      ]
     },
     "execution_count": 3,
     "metadata": {},
     "output_type": "execute_result"
    },
    {
     "data": {
      "text/plain": [
       "<matplotlib.image.AxesImage at 0x7fcb15cc3a00>"
      ]
     },
     "execution_count": 3,
     "metadata": {},
     "output_type": "execute_result"
    },
    {
     "data": {
      "text/plain": [
       "<AxesSubplot:>"
      ]
     },
     "execution_count": 3,
     "metadata": {},
     "output_type": "execute_result"
    },
    {
     "data": {
      "text/plain": [
       "<matplotlib.image.AxesImage at 0x7fcb15d9a1c0>"
      ]
     },
     "execution_count": 3,
     "metadata": {},
     "output_type": "execute_result"
    },
    {
     "data": {
      "image/png": "[encoded data removed]",
      "text/plain": [
       "<Figure size 576x396 with 9 Axes>"
      ]
     },
     "metadata": {},
     "output_type": "display_data"
    }
   ],
   "source": [
    "# Plot out first 10 images\n",
    "for i in range(9):\n",
    "    plt.subplot(330 + 1 + i)\n",
    "    plt.imshow(trainX[i], cmap=plt.get_cmap(\"gray\"))\n",
    "plt.show()"
   ]
  },
  {
   "cell_type": "code",
   "execution_count": 4,
   "metadata": {},
   "outputs": [],
   "source": [
    "# Reshape images\n",
    "trainX = trainX.reshape((trainX.shape[0], 28, 28, 1))\n",
    "trainY = tf.keras.utils.to_categorical(trainY) # One-hot encoding\n",
    "testX = testX.reshape((testX.shape[0], 28, 28, 1))\n",
    "testY = tf.keras.utils.to_categorical(testY) # One-hot encoding"
   ]
  },
  {
   "cell_type": "code",
   "execution_count": 5,
   "metadata": {},
   "outputs": [],
   "source": [
    "\n",
    "model = tf.keras.Sequential([\n",
    "    tf.keras.layers.Rescaling(1./255 , input_shape=(28, 28, 1)),\n",
    "    tf.keras.layers.Conv2D(32, (3, 3), activation=\"relu\", kernel_initializer=\"he_uniform\"),\n",
    "    tf.keras.layers.MaxPooling2D((2, 2)),\n",
    "    tf.keras.layers.Conv2D(64, (3, 3), activation=\"relu\", kernel_initializer=\"he_uniform\", input_shape=(28, 28, 1)),\n",
    "    tf.keras.layers.MaxPooling2D((2, 2)),\n",
    "    tf.keras.layers.Flatten(),\n",
    "    tf.keras.layers.Dense(100, activation=\"relu\", kernel_initializer=\"he_uniform\"),\n",
    "    tf.keras.layers.Dense(10, activation=\"softmax\")\n",
    "])\n",
    "model.compile(\n",
    "    loss=\"categorical_crossentropy\",\n",
    "    optimizer=tf.keras.optimizers.Adam(learning_rate=0.0002, beta_1=0.5),\n",
    "    metrics=['accuracy'],\n",
    ")\n"
   ]
  },
  {
   "cell_type": "code",
   "execution_count": 6,
   "metadata": {},
   "outputs": [
    {
     "name": "stdout",
     "output_type": "stream",
     "text": [
      "Model: \"sequential\"\n",
      "_________________________________________________________________\n",
      "Layer (type)                 Output Shape              Param #   \n",
      "=================================================================\n",
      "rescaling (Rescaling)        (None, 28, 28, 1)         0         \n",
      "_________________________________________________________________\n",
      "conv2d (Conv2D)              (None, 26, 26, 32)        320       \n",
      "_________________________________________________________________\n",
      "max_pooling2d (MaxPooling2D) (None, 13, 13, 32)        0         \n",
      "_________________________________________________________________\n",
      "conv2d_1 (Conv2D)            (None, 11, 11, 64)        18496     \n",
      "_________________________________________________________________\n",
      "max_pooling2d_1 (MaxPooling2 (None, 5, 5, 64)          0         \n",
      "_________________________________________________________________\n",
      "flatten (Flatten)            (None, 1600)              0         \n",
      "_________________________________________________________________\n",
      "dense (Dense)                (None, 100)               160100    \n",
      "_________________________________________________________________\n",
      "dense_1 (Dense)              (None, 10)                1010      \n",
      "=================================================================\n",
      "Total params: 179,926\n",
      "Trainable params: 179,926\n",
      "Non-trainable params: 0\n",
      "_________________________________________________________________\n"
     ]
    }
   ],
   "source": [
    "model.summary()"
   ]
  },
  {
   "cell_type": "code",
   "execution_count": 7,
   "metadata": {},
   "outputs": [],
   "source": [
    "def plotLossAccGraph(result):\n",
    "    fig, (ax1, ax2) = plt.subplots(1, 2, figsize=(12, 6))\n",
    "    ax1.plot(result.history['loss'], label='Training Loss')\n",
    "    ax1.plot(result.history['val_loss'], label='Validation Loss')\n",
    "    ax1.set_title('Training and Validation Loss')\n",
    "    ax1.set_xlabel('Epochs')\n",
    "    ax1.set_ylabel('Loss')\n",
    "    # ax1.set_ylim(bottom=0.0, top=0.6)\n",
    "    ax1.legend()\n",
    "\n",
    "    ax2.plot(result.history['accuracy'], label='Training Accuracy')\n",
    "    ax2.plot(result.history['val_accuracy'], label='Validation Accuracy')\n",
    "    ax2.set_title('Training and Validation Accuracy')\n",
    "    ax2.set_xlabel('Epochs')\n",
    "    ax2.set_ylabel('Accuracy')\n",
    "    # ax2.set_ylim(bottom=0.85, top=1.0)\n",
    "    ax2.legend()\n",
    "\n",
    "    plt.show()\n"
   ]
  },
  {
   "cell_type": "code",
   "execution_count": 8,
   "metadata": {},
   "outputs": [],
   "source": [
    "\n",
    "callback = tf.keras.callbacks.EarlyStopping(monitor=\"loss\", patience=3)\n",
    "epochs = 20\n",
    "batch = 256\n",
    "\n",
    "def train(model, epochs, batch):\n",
    "    result = model.fit(trainX, trainY, validation_data=(testX, testY), epochs=epochs, batch_size=batch)\n",
    "    return result\n",
    "\n"
   ]
  },
  {
   "cell_type": "code",
   "execution_count": 9,
   "metadata": {},
   "outputs": [
    {
     "name": "stderr",
     "output_type": "stream",
     "text": [
      "2021-11-03 14:11:43.327223: I tensorflow/compiler/mlir/mlir_graph_optimization_pass.cc:185] None of the MLIR Optimization Passes are enabled (registered 2)\n"
     ]
    },
    {
     "name": "stdout",
     "output_type": "stream",
     "text": [
      "Epoch 1/20\n",
      "235/235 [==============================] - 16s 64ms/step - loss: 0.7098 - accuracy: 0.7533 - val_loss: 0.5141 - val_accuracy: 0.8149\n",
      "Epoch 2/20\n",
      "235/235 [==============================] - 15s 64ms/step - loss: 0.4495 - accuracy: 0.8401 - val_loss: 0.4418 - val_accuracy: 0.8408\n",
      "Epoch 3/20\n",
      "235/235 [==============================] - 16s 69ms/step - loss: 0.3984 - accuracy: 0.8587 - val_loss: 0.4189 - val_accuracy: 0.8458\n",
      "Epoch 4/20\n",
      "235/235 [==============================] - 15s 64ms/step - loss: 0.3656 - accuracy: 0.8710 - val_loss: 0.3998 - val_accuracy: 0.8546\n",
      "Epoch 5/20\n",
      "235/235 [==============================] - 15s 63ms/step - loss: 0.3424 - accuracy: 0.8790 - val_loss: 0.3686 - val_accuracy: 0.8682\n",
      "Epoch 6/20\n",
      "235/235 [==============================] - 14s 62ms/step - loss: 0.3255 - accuracy: 0.8850 - val_loss: 0.3708 - val_accuracy: 0.8651\n",
      "Epoch 7/20\n",
      "235/235 [==============================] - 16s 68ms/step - loss: 0.3111 - accuracy: 0.8888 - val_loss: 0.3383 - val_accuracy: 0.8788\n",
      "Epoch 8/20\n",
      "235/235 [==============================] - 15s 62ms/step - loss: 0.3003 - accuracy: 0.8930 - val_loss: 0.3266 - val_accuracy: 0.8823\n",
      "Epoch 9/20\n",
      "235/235 [==============================] - 14s 62ms/step - loss: 0.2887 - accuracy: 0.8971 - val_loss: 0.3225 - val_accuracy: 0.8842\n",
      "Epoch 10/20\n",
      "235/235 [==============================] - 15s 62ms/step - loss: 0.2807 - accuracy: 0.8998 - val_loss: 0.3080 - val_accuracy: 0.8875\n",
      "Epoch 11/20\n",
      "235/235 [==============================] - 15s 62ms/step - loss: 0.2710 - accuracy: 0.9030 - val_loss: 0.3149 - val_accuracy: 0.8848\n",
      "Epoch 12/20\n",
      "235/235 [==============================] - 15s 62ms/step - loss: 0.2626 - accuracy: 0.9054 - val_loss: 0.3169 - val_accuracy: 0.8850\n",
      "Epoch 13/20\n",
      "235/235 [==============================] - 14s 62ms/step - loss: 0.2566 - accuracy: 0.9082 - val_loss: 0.3465 - val_accuracy: 0.8768\n",
      "Epoch 14/20\n",
      "235/235 [==============================] - 15s 63ms/step - loss: 0.2504 - accuracy: 0.9101 - val_loss: 0.3221 - val_accuracy: 0.8872\n",
      "Epoch 15/20\n",
      "235/235 [==============================] - 15s 64ms/step - loss: 0.2436 - accuracy: 0.9130 - val_loss: 0.3054 - val_accuracy: 0.8875\n",
      "Epoch 16/20\n",
      "235/235 [==============================] - 15s 64ms/step - loss: 0.2378 - accuracy: 0.9138 - val_loss: 0.3074 - val_accuracy: 0.8893\n",
      "Epoch 17/20\n",
      "235/235 [==============================] - 15s 65ms/step - loss: 0.2333 - accuracy: 0.9165 - val_loss: 0.2916 - val_accuracy: 0.8949\n",
      "Epoch 18/20\n",
      "235/235 [==============================] - 15s 65ms/step - loss: 0.2270 - accuracy: 0.9187 - val_loss: 0.2884 - val_accuracy: 0.8953\n",
      "Epoch 19/20\n",
      "235/235 [==============================] - 15s 64ms/step - loss: 0.2229 - accuracy: 0.9198 - val_loss: 0.2762 - val_accuracy: 0.8984\n",
      "Epoch 20/20\n",
      "235/235 [==============================] - 17s 72ms/step - loss: 0.2171 - accuracy: 0.9216 - val_loss: 0.2916 - val_accuracy: 0.8925\n"
     ]
    },
    {
     "data": {
      "image/png": "[encoded data removed]",
      "text/plain": [
       "<Figure size 864x432 with 2 Axes>"
      ]
     },
     "metadata": {},
     "output_type": "display_data"
    }
   ],
   "source": [
    "result = train(model, epochs, batch)\n",
    "plotLossAccGraph(result)\n"
   ]
  },
  {
   "cell_type": "code",
   "execution_count": 11,
   "metadata": {},
   "outputs": [],
   "source": [
    "model1 = tf.keras.Sequential([\n",
    "    tf.keras.layers.Rescaling(1./255, input_shape=(28, 28, 1)),\n",
    "\n",
    "    tf.keras.layers.Conv2D(32, (3, 3), activation='relu'),\n",
    "    tf.keras.layers.MaxPooling2D(2, 2),\n",
    "\n",
    "    tf.keras.layers.Conv2D(64, (3, 3), activation='relu'),\n",
    "    tf.keras.layers.MaxPooling2D(2, 2),\n",
    "\n",
    "    # tf.keras.layers.Conv2D(128, (3, 3), activation='relu'),\n",
    "    # tf.keras.layers.MaxPooling2D(2, 2),\n",
    "\n",
    "    # tf.keras.layers.Conv2D(256, (3, 3), activation='relu'),\n",
    "    # tf.keras.layers.MaxPooling2D(2, 2),\n",
    "\n",
    "    tf.keras.layers.Flatten(),\n",
    "\n",
    "    tf.keras.layers.Dense(128, activation=\"relu\"),\n",
    "    tf.keras.layers.Dense(10, activation=\"softmax\"),\n",
    "])\n",
    "model1.compile(\n",
    "    optimizer=tf.keras.optimizers.Adam(learning_rate=0.0005),\n",
    "    loss=\"categorical_crossentropy\",\n",
    "    metrics=['accuracy']\n",
    ")\n"
   ]
  },
  {
   "cell_type": "code",
   "execution_count": 12,
   "metadata": {},
   "outputs": [
    {
     "name": "stdout",
     "output_type": "stream",
     "text": [
      "Model: \"sequential_1\"\n",
      "_________________________________________________________________\n",
      "Layer (type)                 Output Shape              Param #   \n",
      "=================================================================\n",
      "rescaling_1 (Rescaling)      (None, 28, 28, 1)         0         \n",
      "_________________________________________________________________\n",
      "conv2d_2 (Conv2D)            (None, 26, 26, 32)        320       \n",
      "_________________________________________________________________\n",
      "max_pooling2d_2 (MaxPooling2 (None, 13, 13, 32)        0         \n",
      "_________________________________________________________________\n",
      "conv2d_3 (Conv2D)            (None, 11, 11, 64)        18496     \n",
      "_________________________________________________________________\n",
      "max_pooling2d_3 (MaxPooling2 (None, 5, 5, 64)          0         \n",
      "_________________________________________________________________\n",
      "flatten_1 (Flatten)          (None, 1600)              0         \n",
      "_________________________________________________________________\n",
      "dense_2 (Dense)              (None, 128)               204928    \n",
      "_________________________________________________________________\n",
      "dense_3 (Dense)              (None, 10)                1290      \n",
      "=================================================================\n",
      "Total params: 225,034\n",
      "Trainable params: 225,034\n",
      "Non-trainable params: 0\n",
      "_________________________________________________________________\n"
     ]
    }
   ],
   "source": [
    "model1.summary()"
   ]
  },
  {
   "cell_type": "code",
   "execution_count": 13,
   "metadata": {},
   "outputs": [
    {
     "name": "stdout",
     "output_type": "stream",
     "text": [
      "Epoch 1/10\n",
      "235/235 [==============================] - 21s 88ms/step - loss: 0.7230 - accuracy: 0.7521 - val_loss: 0.4892 - val_accuracy: 0.8224\n",
      "Epoch 2/10\n",
      "235/235 [==============================] - 18s 76ms/step - loss: 0.4358 - accuracy: 0.8440 - val_loss: 0.4315 - val_accuracy: 0.8426\n",
      "Epoch 3/10\n",
      "235/235 [==============================] - 17s 70ms/step - loss: 0.3795 - accuracy: 0.8652 - val_loss: 0.3852 - val_accuracy: 0.8629\n",
      "Epoch 4/10\n",
      "235/235 [==============================] - 16s 66ms/step - loss: 0.3487 - accuracy: 0.8773 - val_loss: 0.3583 - val_accuracy: 0.8727\n",
      "Epoch 5/10\n",
      "235/235 [==============================] - 16s 68ms/step - loss: 0.3256 - accuracy: 0.8846 - val_loss: 0.3472 - val_accuracy: 0.8761\n",
      "Epoch 6/10\n",
      "235/235 [==============================] - 21s 87ms/step - loss: 0.3048 - accuracy: 0.8918 - val_loss: 0.3351 - val_accuracy: 0.8807\n",
      "Epoch 7/10\n",
      "235/235 [==============================] - 18s 77ms/step - loss: 0.2907 - accuracy: 0.8954 - val_loss: 0.3232 - val_accuracy: 0.8842\n",
      "Epoch 8/10\n",
      "235/235 [==============================] - 15s 65ms/step - loss: 0.2809 - accuracy: 0.8989 - val_loss: 0.3084 - val_accuracy: 0.8911\n",
      "Epoch 9/10\n",
      "235/235 [==============================] - 15s 65ms/step - loss: 0.2684 - accuracy: 0.9034 - val_loss: 0.3015 - val_accuracy: 0.8934\n",
      "Epoch 10/10\n",
      "235/235 [==============================] - 16s 67ms/step - loss: 0.2579 - accuracy: 0.9059 - val_loss: 0.2975 - val_accuracy: 0.8939\n"
     ]
    }
   ],
   "source": [
    "result1 = model1.fit(trainX, trainY, validation_data=(testX, testY), epochs=10, batch_size=256)"
   ]
  },
  {
   "cell_type": "code",
   "execution_count": null,
   "metadata": {},
   "outputs": [],
   "source": []
  }
 ],
 "metadata": {
  "interpreter": {
   "hash": "1540c76d30b1af6ad410dda6d61bebe77544e2f3c1a272e4083818637a64b89a"
  },
  "kernelspec": {
   "display_name": "Python 3.9.0 64-bit ('tf2.6': conda)",
   "name": "python3"
  },
  "language_info": {
   "codemirror_mode": {
    "name": "ipython",
    "version": 3
   },
   "file_extension": ".py",
   "mimetype": "text/x-python",
   "name": "python",
   "nbconvert_exporter": "python",
   "pygments_lexer": "ipython3",
   "version": "3.9.0"
  },
  "orig_nbformat": 4
 },
 "nbformat": 4,
 "nbformat_minor": 2
}
