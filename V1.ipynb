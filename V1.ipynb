{
  "cells": [
    {
      "cell_type": "markdown",
      "metadata": {},
      "source": [
        "## Background Research"
      ]
    },
    {
      "cell_type": "markdown",
      "metadata": {},
      "source": [
        "The Fashion MNIST clothing classification is a standard dataset used in computer vision and deep learning. It is used as the basis for learning and practicing deep learning.\n",
        "\n",
        "It is a dataset comprising of 60000 small square 28x28 pixel greyscale images of items of 10 types of clothing, such as shoes, t-shirts, dress and more.\n"
      ]
    },
    {
      "cell_type": "code",
      "execution_count": 1,
      "metadata": {},
      "outputs": [],
      "source": [
        "labels = [\n",
        "    'T-Shirt/Top',\n",
        "    'Trouser',\n",
        "    'Pullover',\n",
        "    'Dress',\n",
        "    'Coat',\n",
        "    'Sandal',\n",
        "    'Shirt',\n",
        "    'Sneaker',\n",
        "    'Bag',\n",
        "    'Ankle Boots'\n",
        "]"
      ]
    },
    {
      "cell_type": "code",
      "execution_count": 2,
      "metadata": {
        "colab": {
          "base_uri": "https://localhost:8080/"
        },
        "id": "sQf2nxZNhZOW",
        "outputId": "e7c8470e-f37f-4aaa-ce92-2dfffc1194b1"
      },
      "outputs": [
        {
          "name": "stdout",
          "output_type": "stream",
          "text": [
            "2.6.0\n",
            "WARNING:tensorflow:From /var/folders/jr/017d8q8145z52wbhxmqqxxkc0000gn/T/ipykernel_82649/4273025275.py:6: is_gpu_available (from tensorflow.python.framework.test_util) is deprecated and will be removed in a future version.\n",
            "Instructions for updating:\n",
            "Use `tf.config.list_physical_devices('GPU')` instead.\n"
          ]
        },
        {
          "name": "stderr",
          "output_type": "stream",
          "text": [
            "2021-11-26 10:23:57.335635: I tensorflow/core/platform/cpu_feature_guard.cc:142] This TensorFlow binary is optimized with oneAPI Deep Neural Network Library (oneDNN) to use the following CPU instructions in performance-critical operations:  AVX2 FMA\n",
            "To enable them in other operations, rebuild TensorFlow with the appropriate compiler flags.\n"
          ]
        },
        {
          "data": {
            "text/plain": [
              "False"
            ]
          },
          "execution_count": 2,
          "metadata": {},
          "output_type": "execute_result"
        }
      ],
      "source": [
        "import tensorflow as tf\n",
        "import numpy as np\n",
        "import matplotlib.pyplot as plt\n",
        "import pandas as pd\n",
        "print(tf.__version__)\n",
        "tf.test.is_gpu_available()\n",
        "plt.style.use('seaborn')"
      ]
    },
    {
      "cell_type": "code",
      "execution_count": 3,
      "metadata": {
        "colab": {
          "base_uri": "https://localhost:8080/"
        },
        "id": "FXcE_ijYhZOX",
        "outputId": "9bbcc5bf-42f8-4715-a7d6-7cec24b35c7c"
      },
      "outputs": [
        {
          "name": "stdout",
          "output_type": "stream",
          "text": [
            "Train: X: (60000, 28, 28)    y: (60000,)\n",
            "Test: X: (10000, 28, 28)    y: (10000,)\n"
          ]
        }
      ],
      "source": [
        "# Import Dataset\n",
        "(trainX, trainY), (testX, testY) = tf.keras.datasets.fashion_mnist.load_data()\n",
        "print(f\"Train: X: {trainX.shape}    y: {trainY.shape}\")\n",
        "print(f\"Test: X: {testX.shape}    y: {testY.shape}\")"
      ]
    },
    {
      "cell_type": "code",
      "execution_count": 4,
      "metadata": {
        "colab": {
          "base_uri": "https://localhost:8080/",
          "height": 268
        },
        "id": "J8lDPgFzhZOX",
        "outputId": "1c11b7a1-e5ab-443f-9d3b-e7d58ebdb649"
      },
      "outputs": [
        {
          "data": {
            "text/plain": [
              "<AxesSubplot:>"
            ]
          },
          "execution_count": 4,
          "metadata": {},
          "output_type": "execute_result"
        },
        {
          "data": {
            "text/plain": [
              "<matplotlib.image.AxesImage at 0x7ff106737580>"
            ]
          },
          "execution_count": 4,
          "metadata": {},
          "output_type": "execute_result"
        },
        {
          "data": {
            "text/plain": [
              "<AxesSubplot:>"
            ]
          },
          "execution_count": 4,
          "metadata": {},
          "output_type": "execute_result"
        },
        {
          "data": {
            "text/plain": [
              "<matplotlib.image.AxesImage at 0x7ff106776820>"
            ]
          },
          "execution_count": 4,
          "metadata": {},
          "output_type": "execute_result"
        },
        {
          "data": {
            "text/plain": [
              "<AxesSubplot:>"
            ]
          },
          "execution_count": 4,
          "metadata": {},
          "output_type": "execute_result"
        },
        {
          "data": {
            "text/plain": [
              "<matplotlib.image.AxesImage at 0x7ff122b309a0>"
            ]
          },
          "execution_count": 4,
          "metadata": {},
          "output_type": "execute_result"
        },
        {
          "data": {
            "text/plain": [
              "<AxesSubplot:>"
            ]
          },
          "execution_count": 4,
          "metadata": {},
          "output_type": "execute_result"
        },
        {
          "data": {
            "text/plain": [
              "<matplotlib.image.AxesImage at 0x7ff10ac99760>"
            ]
          },
          "execution_count": 4,
          "metadata": {},
          "output_type": "execute_result"
        },
        {
          "data": {
            "text/plain": [
              "<AxesSubplot:>"
            ]
          },
          "execution_count": 4,
          "metadata": {},
          "output_type": "execute_result"
        },
        {
          "data": {
            "text/plain": [
              "<matplotlib.image.AxesImage at 0x7ff10acda400>"
            ]
          },
          "execution_count": 4,
          "metadata": {},
          "output_type": "execute_result"
        },
        {
          "data": {
            "text/plain": [
              "<AxesSubplot:>"
            ]
          },
          "execution_count": 4,
          "metadata": {},
          "output_type": "execute_result"
        },
        {
          "data": {
            "text/plain": [
              "<matplotlib.image.AxesImage at 0x7ff10ac99b50>"
            ]
          },
          "execution_count": 4,
          "metadata": {},
          "output_type": "execute_result"
        },
        {
          "data": {
            "text/plain": [
              "<AxesSubplot:>"
            ]
          },
          "execution_count": 4,
          "metadata": {},
          "output_type": "execute_result"
        },
        {
          "data": {
            "text/plain": [
              "<matplotlib.image.AxesImage at 0x7ff10ad4b760>"
            ]
          },
          "execution_count": 4,
          "metadata": {},
          "output_type": "execute_result"
        },
        {
          "data": {
            "text/plain": [
              "<AxesSubplot:>"
            ]
          },
          "execution_count": 4,
          "metadata": {},
          "output_type": "execute_result"
        },
        {
          "data": {
            "text/plain": [
              "<matplotlib.image.AxesImage at 0x7ff10ad3c700>"
            ]
          },
          "execution_count": 4,
          "metadata": {},
          "output_type": "execute_result"
        },
        {
          "data": {
            "text/plain": [
              "<AxesSubplot:>"
            ]
          },
          "execution_count": 4,
          "metadata": {},
          "output_type": "execute_result"
        },
        {
          "data": {
            "text/plain": [
              "<matplotlib.image.AxesImage at 0x7ff10ad4ba60>"
            ]
          },
          "execution_count": 4,
          "metadata": {},
          "output_type": "execute_result"
        },
        {
          "data": {
            "image/png": "[encoded data removed]",
            "text/plain": [
              "<Figure size 576x396 with 9 Axes>"
            ]
          },
          "metadata": {},
          "output_type": "display_data"
        }
      ],
      "source": [
        "# Plot out first 10 images\n",
        "for i in range(9):\n",
        "    plt.subplot(330 + 1 + i)\n",
        "    plt.imshow(trainX[i], cmap=plt.get_cmap(\"gray\"))\n",
        "plt.show()"
      ]
    },
    {
      "cell_type": "code",
      "execution_count": 5,
      "metadata": {
        "id": "62hymyzvhZOY"
      },
      "outputs": [],
      "source": [
        "# Reshape images\n",
        "trainX = trainX.reshape((trainX.shape[0], 28, 28, 1))\n",
        "# trainY = tf.keras.utils.to_categorical(trainY) # One-hot encoding\n",
        "testX = testX.reshape((testX.shape[0], 28, 28, 1))\n",
        "# testY = tf.keras.utils.to_categorical(testY) # One-hot encoding"
      ]
    },
    {
      "cell_type": "code",
      "execution_count": 7,
      "metadata": {},
      "outputs": [],
      "source": [
        "# train val split\n",
        "from sklearn.model_selection import train_test_split\n",
        "trainX, valX, trainY, valY = train_test_split(trainX, trainY, test_size=0.2)\n"
      ]
    },
    {
      "cell_type": "code",
      "execution_count": 8,
      "metadata": {
        "id": "QHk0IWiK_iyg"
      },
      "outputs": [],
      "source": [
        "from keras.preprocessing.image import ImageDataGenerator\n",
        "\n",
        "dataGen = ImageDataGenerator(\n",
        "    rotation_range=10,\n",
        "    horizontal_flip=True,\n",
        "    vertical_flip=True,\n",
        "    width_shift_range=0.1,\n",
        "    height_shift_range=0.1,\n",
        ")\n",
        "dataGen.fit(trainX)"
      ]
    },
    {
      "cell_type": "code",
      "execution_count": 9,
      "metadata": {
        "id": "OSabWTgLhZOY"
      },
      "outputs": [],
      "source": [
        "\n",
        "model = tf.keras.Sequential([\n",
        "    tf.keras.layers.Rescaling(1./255 , input_shape=(28, 28, 1)),\n",
        "    tf.keras.layers.Conv2D(32, (3, 3), activation=\"relu\", kernel_initializer=\"he_uniform\"),\n",
        "    tf.keras.layers.MaxPooling2D((2, 2)),\n",
        "    tf.keras.layers.Conv2D(64, (3, 3), activation=\"relu\", kernel_initializer=\"he_uniform\", input_shape=(28, 28, 1)),\n",
        "    tf.keras.layers.MaxPooling2D((2, 2)),\n",
        "    tf.keras.layers.Flatten(),\n",
        "    tf.keras.layers.Dense(100, activation=\"relu\", kernel_initializer=\"he_uniform\"),\n",
        "    tf.keras.layers.Dense(10, activation=\"softmax\")\n",
        "])\n",
        "model.compile(\n",
        "    loss=\"sparse_categorical_crossentropy\",\n",
        "    optimizer=tf.keras.optimizers.Adam(learning_rate=0.001, beta_1=0.5),\n",
        "    metrics=['accuracy'],\n",
        ")\n"
      ]
    },
    {
      "cell_type": "code",
      "execution_count": 10,
      "metadata": {
        "colab": {
          "base_uri": "https://localhost:8080/"
        },
        "id": "3Kjz0UYchZOY",
        "outputId": "a000b544-ce29-48cb-a2a3-a0f37a3b5df1"
      },
      "outputs": [
        {
          "name": "stdout",
          "output_type": "stream",
          "text": [
            "Model: \"sequential\"\n",
            "_________________________________________________________________\n",
            "Layer (type)                 Output Shape              Param #   \n",
            "=================================================================\n",
            "rescaling (Rescaling)        (None, 28, 28, 1)         0         \n",
            "_________________________________________________________________\n",
            "conv2d (Conv2D)              (None, 26, 26, 32)        320       \n",
            "_________________________________________________________________\n",
            "max_pooling2d (MaxPooling2D) (None, 13, 13, 32)        0         \n",
            "_________________________________________________________________\n",
            "conv2d_1 (Conv2D)            (None, 11, 11, 64)        18496     \n",
            "_________________________________________________________________\n",
            "max_pooling2d_1 (MaxPooling2 (None, 5, 5, 64)          0         \n",
            "_________________________________________________________________\n",
            "flatten (Flatten)            (None, 1600)              0         \n",
            "_________________________________________________________________\n",
            "dense (Dense)                (None, 100)               160100    \n",
            "_________________________________________________________________\n",
            "dense_1 (Dense)              (None, 10)                1010      \n",
            "=================================================================\n",
            "Total params: 179,926\n",
            "Trainable params: 179,926\n",
            "Non-trainable params: 0\n",
            "_________________________________________________________________\n"
          ]
        }
      ],
      "source": [
        "model.summary()"
      ]
    },
    {
      "cell_type": "code",
      "execution_count": 11,
      "metadata": {
        "id": "T2qbsaoHhZOY"
      },
      "outputs": [],
      "source": [
        "def plotLossAccGraph(result):\n",
        "    fig, (ax1, ax2) = plt.subplots(1, 2, figsize=(12, 6))\n",
        "    ax1.plot(result.history['loss'], label='Training Loss')\n",
        "    ax1.plot(result.history['val_loss'], label='Validation Loss')\n",
        "    ax1.set_title('Training and Validation Loss')\n",
        "    ax1.set_xlabel('Epochs')\n",
        "    ax1.set_ylabel('Loss')\n",
        "    # ax1.set_ylim(bottom=0.0, top=0.6)\n",
        "    ax1.legend()\n",
        "\n",
        "    ax2.plot(result.history['accuracy'], label='Training Accuracy')\n",
        "    ax2.plot(result.history['val_accuracy'], label='Validation Accuracy')\n",
        "    ax2.set_title('Training and Validation Accuracy')\n",
        "    ax2.set_xlabel('Epochs')\n",
        "    ax2.set_ylabel('Accuracy')\n",
        "    # ax2.set_ylim(bottom=0.85, top=1.0)\n",
        "    ax2.legend()\n",
        "\n",
        "    plt.show()\n"
      ]
    },
    {
      "cell_type": "code",
      "execution_count": 12,
      "metadata": {
        "id": "TADyYeqHhZOZ"
      },
      "outputs": [],
      "source": [
        "\n",
        "epochs = 50\n",
        "batch = 512\n",
        "\n",
        "def train(model, epochs, batch):\n",
        "    result = model.fit(dataGen.flow(trainX, trainY, batch_size=1024),validation_data=(valX, valY), epochs=epochs, batch_size=batch)\n",
        "    return result\n",
        "\n"
      ]
    },
    {
      "cell_type": "code",
      "execution_count": 13,
      "metadata": {
        "colab": {
          "base_uri": "https://localhost:8080/",
          "height": 1000
        },
        "id": "djqsnslxhZOZ",
        "outputId": "500e143d-9ef1-4f0e-f5be-fe374171c8ed"
      },
      "outputs": [
        {
          "name": "stderr",
          "output_type": "stream",
          "text": [
            "2021-11-26 10:24:40.860479: I tensorflow/compiler/mlir/mlir_graph_optimization_pass.cc:185] None of the MLIR Optimization Passes are enabled (registered 2)\n"
          ]
        },
        {
          "name": "stdout",
          "output_type": "stream",
          "text": [
            "Epoch 1/50\n",
            "47/47 [==============================] - 26s 539ms/step - loss: 1.2377 - accuracy: 0.5520 - val_loss: 0.8015 - val_accuracy: 0.7018\n",
            "Epoch 2/50\n",
            "47/47 [==============================] - 25s 522ms/step - loss: 0.8034 - accuracy: 0.7046 - val_loss: 0.7123 - val_accuracy: 0.7273\n",
            "Epoch 3/50\n",
            " 2/47 [>.............................] - ETA: 44s - loss: 0.7734 - accuracy: 0.7070 "
          ]
        },
        {
          "ename": "KeyboardInterrupt",
          "evalue": "",
          "output_type": "error",
          "traceback": [
            "\u001b[0;31m---------------------------------------------------------------------------\u001b[0m",
            "\u001b[0;31mKeyboardInterrupt\u001b[0m                         Traceback (most recent call last)",
            "\u001b[0;32m/var/folders/jr/017d8q8145z52wbhxmqqxxkc0000gn/T/ipykernel_82649/2914391873.py\u001b[0m in \u001b[0;36m<module>\u001b[0;34m\u001b[0m\n\u001b[0;32m----> 1\u001b[0;31m \u001b[0mresult\u001b[0m \u001b[0;34m=\u001b[0m \u001b[0mtrain\u001b[0m\u001b[0;34m(\u001b[0m\u001b[0mmodel\u001b[0m\u001b[0;34m,\u001b[0m \u001b[0mepochs\u001b[0m\u001b[0;34m,\u001b[0m \u001b[0mbatch\u001b[0m\u001b[0;34m)\u001b[0m\u001b[0;34m\u001b[0m\u001b[0;34m\u001b[0m\u001b[0m\n\u001b[0m\u001b[1;32m      2\u001b[0m \u001b[0mplotLossAccGraph\u001b[0m\u001b[0;34m(\u001b[0m\u001b[0mresult\u001b[0m\u001b[0;34m)\u001b[0m\u001b[0;34m\u001b[0m\u001b[0;34m\u001b[0m\u001b[0m\n",
            "\u001b[0;32m/var/folders/jr/017d8q8145z52wbhxmqqxxkc0000gn/T/ipykernel_82649/1050620150.py\u001b[0m in \u001b[0;36mtrain\u001b[0;34m(model, epochs, batch)\u001b[0m\n\u001b[1;32m      3\u001b[0m \u001b[0;34m\u001b[0m\u001b[0m\n\u001b[1;32m      4\u001b[0m \u001b[0;32mdef\u001b[0m \u001b[0mtrain\u001b[0m\u001b[0;34m(\u001b[0m\u001b[0mmodel\u001b[0m\u001b[0;34m,\u001b[0m \u001b[0mepochs\u001b[0m\u001b[0;34m,\u001b[0m \u001b[0mbatch\u001b[0m\u001b[0;34m)\u001b[0m\u001b[0;34m:\u001b[0m\u001b[0;34m\u001b[0m\u001b[0;34m\u001b[0m\u001b[0m\n\u001b[0;32m----> 5\u001b[0;31m     \u001b[0mresult\u001b[0m \u001b[0;34m=\u001b[0m \u001b[0mmodel\u001b[0m\u001b[0;34m.\u001b[0m\u001b[0mfit\u001b[0m\u001b[0;34m(\u001b[0m\u001b[0mdataGen\u001b[0m\u001b[0;34m.\u001b[0m\u001b[0mflow\u001b[0m\u001b[0;34m(\u001b[0m\u001b[0mtrainX\u001b[0m\u001b[0;34m,\u001b[0m \u001b[0mtrainY\u001b[0m\u001b[0;34m,\u001b[0m \u001b[0mbatch_size\u001b[0m\u001b[0;34m=\u001b[0m\u001b[0;36m1024\u001b[0m\u001b[0;34m)\u001b[0m\u001b[0;34m,\u001b[0m\u001b[0mvalidation_data\u001b[0m\u001b[0;34m=\u001b[0m\u001b[0;34m(\u001b[0m\u001b[0mvalX\u001b[0m\u001b[0;34m,\u001b[0m \u001b[0mvalY\u001b[0m\u001b[0;34m)\u001b[0m\u001b[0;34m,\u001b[0m \u001b[0mepochs\u001b[0m\u001b[0;34m=\u001b[0m\u001b[0mepochs\u001b[0m\u001b[0;34m,\u001b[0m \u001b[0mbatch_size\u001b[0m\u001b[0;34m=\u001b[0m\u001b[0mbatch\u001b[0m\u001b[0;34m)\u001b[0m\u001b[0;34m\u001b[0m\u001b[0;34m\u001b[0m\u001b[0m\n\u001b[0m\u001b[1;32m      6\u001b[0m     \u001b[0;32mreturn\u001b[0m \u001b[0mresult\u001b[0m\u001b[0;34m\u001b[0m\u001b[0;34m\u001b[0m\u001b[0m\n\u001b[1;32m      7\u001b[0m \u001b[0;34m\u001b[0m\u001b[0m\n",
            "\u001b[0;32m~/opt/miniconda3/envs/tf2.6/lib/python3.9/site-packages/keras/engine/training.py\u001b[0m in \u001b[0;36mfit\u001b[0;34m(self, x, y, batch_size, epochs, verbose, callbacks, validation_split, validation_data, shuffle, class_weight, sample_weight, initial_epoch, steps_per_epoch, validation_steps, validation_batch_size, validation_freq, max_queue_size, workers, use_multiprocessing)\u001b[0m\n\u001b[1;32m   1182\u001b[0m                 _r=1):\n\u001b[1;32m   1183\u001b[0m               \u001b[0mcallbacks\u001b[0m\u001b[0;34m.\u001b[0m\u001b[0mon_train_batch_begin\u001b[0m\u001b[0;34m(\u001b[0m\u001b[0mstep\u001b[0m\u001b[0;34m)\u001b[0m\u001b[0;34m\u001b[0m\u001b[0;34m\u001b[0m\u001b[0m\n\u001b[0;32m-> 1184\u001b[0;31m               \u001b[0mtmp_logs\u001b[0m \u001b[0;34m=\u001b[0m \u001b[0mself\u001b[0m\u001b[0;34m.\u001b[0m\u001b[0mtrain_function\u001b[0m\u001b[0;34m(\u001b[0m\u001b[0miterator\u001b[0m\u001b[0;34m)\u001b[0m\u001b[0;34m\u001b[0m\u001b[0;34m\u001b[0m\u001b[0m\n\u001b[0m\u001b[1;32m   1185\u001b[0m               \u001b[0;32mif\u001b[0m \u001b[0mdata_handler\u001b[0m\u001b[0;34m.\u001b[0m\u001b[0mshould_sync\u001b[0m\u001b[0;34m:\u001b[0m\u001b[0;34m\u001b[0m\u001b[0;34m\u001b[0m\u001b[0m\n\u001b[1;32m   1186\u001b[0m                 \u001b[0mcontext\u001b[0m\u001b[0;34m.\u001b[0m\u001b[0masync_wait\u001b[0m\u001b[0;34m(\u001b[0m\u001b[0;34m)\u001b[0m\u001b[0;34m\u001b[0m\u001b[0;34m\u001b[0m\u001b[0m\n",
            "\u001b[0;32m~/opt/miniconda3/envs/tf2.6/lib/python3.9/site-packages/tensorflow/python/eager/def_function.py\u001b[0m in \u001b[0;36m__call__\u001b[0;34m(self, *args, **kwds)\u001b[0m\n\u001b[1;32m    883\u001b[0m \u001b[0;34m\u001b[0m\u001b[0m\n\u001b[1;32m    884\u001b[0m       \u001b[0;32mwith\u001b[0m \u001b[0mOptionalXlaContext\u001b[0m\u001b[0;34m(\u001b[0m\u001b[0mself\u001b[0m\u001b[0;34m.\u001b[0m\u001b[0m_jit_compile\u001b[0m\u001b[0;34m)\u001b[0m\u001b[0;34m:\u001b[0m\u001b[0;34m\u001b[0m\u001b[0;34m\u001b[0m\u001b[0m\n\u001b[0;32m--> 885\u001b[0;31m         \u001b[0mresult\u001b[0m \u001b[0;34m=\u001b[0m \u001b[0mself\u001b[0m\u001b[0;34m.\u001b[0m\u001b[0m_call\u001b[0m\u001b[0;34m(\u001b[0m\u001b[0;34m*\u001b[0m\u001b[0margs\u001b[0m\u001b[0;34m,\u001b[0m \u001b[0;34m**\u001b[0m\u001b[0mkwds\u001b[0m\u001b[0;34m)\u001b[0m\u001b[0;34m\u001b[0m\u001b[0;34m\u001b[0m\u001b[0m\n\u001b[0m\u001b[1;32m    886\u001b[0m \u001b[0;34m\u001b[0m\u001b[0m\n\u001b[1;32m    887\u001b[0m       \u001b[0mnew_tracing_count\u001b[0m \u001b[0;34m=\u001b[0m \u001b[0mself\u001b[0m\u001b[0;34m.\u001b[0m\u001b[0mexperimental_get_tracing_count\u001b[0m\u001b[0;34m(\u001b[0m\u001b[0;34m)\u001b[0m\u001b[0;34m\u001b[0m\u001b[0;34m\u001b[0m\u001b[0m\n",
            "\u001b[0;32m~/opt/miniconda3/envs/tf2.6/lib/python3.9/site-packages/tensorflow/python/eager/def_function.py\u001b[0m in \u001b[0;36m_call\u001b[0;34m(self, *args, **kwds)\u001b[0m\n\u001b[1;32m    915\u001b[0m       \u001b[0;31m# In this case we have created variables on the first call, so we run the\u001b[0m\u001b[0;34m\u001b[0m\u001b[0;34m\u001b[0m\u001b[0;34m\u001b[0m\u001b[0m\n\u001b[1;32m    916\u001b[0m       \u001b[0;31m# defunned version which is guaranteed to never create variables.\u001b[0m\u001b[0;34m\u001b[0m\u001b[0;34m\u001b[0m\u001b[0;34m\u001b[0m\u001b[0m\n\u001b[0;32m--> 917\u001b[0;31m       \u001b[0;32mreturn\u001b[0m \u001b[0mself\u001b[0m\u001b[0;34m.\u001b[0m\u001b[0m_stateless_fn\u001b[0m\u001b[0;34m(\u001b[0m\u001b[0;34m*\u001b[0m\u001b[0margs\u001b[0m\u001b[0;34m,\u001b[0m \u001b[0;34m**\u001b[0m\u001b[0mkwds\u001b[0m\u001b[0;34m)\u001b[0m  \u001b[0;31m# pylint: disable=not-callable\u001b[0m\u001b[0;34m\u001b[0m\u001b[0;34m\u001b[0m\u001b[0m\n\u001b[0m\u001b[1;32m    918\u001b[0m     \u001b[0;32melif\u001b[0m \u001b[0mself\u001b[0m\u001b[0;34m.\u001b[0m\u001b[0m_stateful_fn\u001b[0m \u001b[0;32mis\u001b[0m \u001b[0;32mnot\u001b[0m \u001b[0;32mNone\u001b[0m\u001b[0;34m:\u001b[0m\u001b[0;34m\u001b[0m\u001b[0;34m\u001b[0m\u001b[0m\n\u001b[1;32m    919\u001b[0m       \u001b[0;31m# Release the lock early so that multiple threads can perform the call\u001b[0m\u001b[0;34m\u001b[0m\u001b[0;34m\u001b[0m\u001b[0;34m\u001b[0m\u001b[0m\n",
            "\u001b[0;32m~/opt/miniconda3/envs/tf2.6/lib/python3.9/site-packages/tensorflow/python/eager/function.py\u001b[0m in \u001b[0;36m__call__\u001b[0;34m(self, *args, **kwargs)\u001b[0m\n\u001b[1;32m   3037\u001b[0m       (graph_function,\n\u001b[1;32m   3038\u001b[0m        filtered_flat_args) = self._maybe_define_function(args, kwargs)\n\u001b[0;32m-> 3039\u001b[0;31m     return graph_function._call_flat(\n\u001b[0m\u001b[1;32m   3040\u001b[0m         filtered_flat_args, captured_inputs=graph_function.captured_inputs)  # pylint: disable=protected-access\n\u001b[1;32m   3041\u001b[0m \u001b[0;34m\u001b[0m\u001b[0m\n",
            "\u001b[0;32m~/opt/miniconda3/envs/tf2.6/lib/python3.9/site-packages/tensorflow/python/eager/function.py\u001b[0m in \u001b[0;36m_call_flat\u001b[0;34m(self, args, captured_inputs, cancellation_manager)\u001b[0m\n\u001b[1;32m   1961\u001b[0m         and executing_eagerly):\n\u001b[1;32m   1962\u001b[0m       \u001b[0;31m# No tape is watching; skip to running the function.\u001b[0m\u001b[0;34m\u001b[0m\u001b[0;34m\u001b[0m\u001b[0;34m\u001b[0m\u001b[0m\n\u001b[0;32m-> 1963\u001b[0;31m       return self._build_call_outputs(self._inference_function.call(\n\u001b[0m\u001b[1;32m   1964\u001b[0m           ctx, args, cancellation_manager=cancellation_manager))\n\u001b[1;32m   1965\u001b[0m     forward_backward = self._select_forward_and_backward_functions(\n",
            "\u001b[0;32m~/opt/miniconda3/envs/tf2.6/lib/python3.9/site-packages/tensorflow/python/eager/function.py\u001b[0m in \u001b[0;36mcall\u001b[0;34m(self, ctx, args, cancellation_manager)\u001b[0m\n\u001b[1;32m    589\u001b[0m       \u001b[0;32mwith\u001b[0m \u001b[0m_InterpolateFunctionError\u001b[0m\u001b[0;34m(\u001b[0m\u001b[0mself\u001b[0m\u001b[0;34m)\u001b[0m\u001b[0;34m:\u001b[0m\u001b[0;34m\u001b[0m\u001b[0;34m\u001b[0m\u001b[0m\n\u001b[1;32m    590\u001b[0m         \u001b[0;32mif\u001b[0m \u001b[0mcancellation_manager\u001b[0m \u001b[0;32mis\u001b[0m \u001b[0;32mNone\u001b[0m\u001b[0;34m:\u001b[0m\u001b[0;34m\u001b[0m\u001b[0;34m\u001b[0m\u001b[0m\n\u001b[0;32m--> 591\u001b[0;31m           outputs = execute.execute(\n\u001b[0m\u001b[1;32m    592\u001b[0m               \u001b[0mstr\u001b[0m\u001b[0;34m(\u001b[0m\u001b[0mself\u001b[0m\u001b[0;34m.\u001b[0m\u001b[0msignature\u001b[0m\u001b[0;34m.\u001b[0m\u001b[0mname\u001b[0m\u001b[0;34m)\u001b[0m\u001b[0;34m,\u001b[0m\u001b[0;34m\u001b[0m\u001b[0;34m\u001b[0m\u001b[0m\n\u001b[1;32m    593\u001b[0m               \u001b[0mnum_outputs\u001b[0m\u001b[0;34m=\u001b[0m\u001b[0mself\u001b[0m\u001b[0;34m.\u001b[0m\u001b[0m_num_outputs\u001b[0m\u001b[0;34m,\u001b[0m\u001b[0;34m\u001b[0m\u001b[0;34m\u001b[0m\u001b[0m\n",
            "\u001b[0;32m~/opt/miniconda3/envs/tf2.6/lib/python3.9/site-packages/tensorflow/python/eager/execute.py\u001b[0m in \u001b[0;36mquick_execute\u001b[0;34m(op_name, num_outputs, inputs, attrs, ctx, name)\u001b[0m\n\u001b[1;32m     57\u001b[0m   \u001b[0;32mtry\u001b[0m\u001b[0;34m:\u001b[0m\u001b[0;34m\u001b[0m\u001b[0;34m\u001b[0m\u001b[0m\n\u001b[1;32m     58\u001b[0m     \u001b[0mctx\u001b[0m\u001b[0;34m.\u001b[0m\u001b[0mensure_initialized\u001b[0m\u001b[0;34m(\u001b[0m\u001b[0;34m)\u001b[0m\u001b[0;34m\u001b[0m\u001b[0;34m\u001b[0m\u001b[0m\n\u001b[0;32m---> 59\u001b[0;31m     tensors = pywrap_tfe.TFE_Py_Execute(ctx._handle, device_name, op_name,\n\u001b[0m\u001b[1;32m     60\u001b[0m                                         inputs, attrs, num_outputs)\n\u001b[1;32m     61\u001b[0m   \u001b[0;32mexcept\u001b[0m \u001b[0mcore\u001b[0m\u001b[0;34m.\u001b[0m\u001b[0m_NotOkStatusException\u001b[0m \u001b[0;32mas\u001b[0m \u001b[0me\u001b[0m\u001b[0;34m:\u001b[0m\u001b[0;34m\u001b[0m\u001b[0;34m\u001b[0m\u001b[0m\n",
            "\u001b[0;31mKeyboardInterrupt\u001b[0m: "
          ]
        }
      ],
      "source": [
        "result = train(model, epochs, batch)\n",
        "plotLossAccGraph(result)\n"
      ]
    },
    {
      "cell_type": "code",
      "execution_count": 12,
      "metadata": {
        "id": "z2oUBXoQhZOZ"
      },
      "outputs": [],
      "source": [
        "model1 = tf.keras.Sequential([\n",
        "    tf.keras.layers.Rescaling(1./255, input_shape=(28, 28, 1)),\n",
        "\n",
        "    tf.keras.layers.Conv2D(64, (3, 3), activation='relu', padding='same'),\n",
        "    tf.keras.layers.Conv2D(64, (3, 3), activation='relu', padding='same'),\n",
        "    tf.keras.layers.MaxPooling2D(2, 2),\n",
        "    tf.keras.layers.BatchNormalization(),\n",
        "\n",
        "\n",
        "    tf.keras.layers.Conv2D(128, (3, 3), activation='relu', padding='same'),\n",
        "    tf.keras.layers.Conv2D(128, (3, 3), activation='relu', padding='same'),\n",
        "    tf.keras.layers.Conv2D(128, (3, 3), activation='relu', padding='same'),\n",
        "    tf.keras.layers.MaxPooling2D(2, 2),\n",
        "    tf.keras.layers.BatchNormalization(),\n",
        "\n",
        "    tf.keras.layers.Conv2D(256, (3, 3), activation='relu', padding='same'),\n",
        "    tf.keras.layers.Conv2D(256, (3, 3), activation='relu', padding='same'),\n",
        "    tf.keras.layers.MaxPooling2D(2, 2),\n",
        "    tf.keras.layers.BatchNormalization(),\n",
        "\n",
        "    tf.keras.layers.Flatten(),\n",
        "\n",
        "    tf.keras.layers.Dense(128, activation=\"relu\"),\n",
        "    tf.keras.layers.Dense(10, activation=\"softmax\"),\n",
        "])\n",
        "model1.compile(\n",
        "    optimizer=tf.keras.optimizers.Adam(learning_rate=0.001),\n",
        "    loss=\"sparse_categorical_crossentropy\",\n",
        "    metrics=['accuracy']\n",
        ")\n"
      ]
    },
    {
      "cell_type": "code",
      "execution_count": 13,
      "metadata": {
        "colab": {
          "base_uri": "https://localhost:8080/"
        },
        "id": "-sAR0hzohZOa",
        "outputId": "4152a10d-e845-4048-9598-ba71fe88a4ed"
      },
      "outputs": [
        {
          "name": "stdout",
          "output_type": "stream",
          "text": [
            "Model: \"sequential_1\"\n",
            "_________________________________________________________________\n",
            " Layer (type)                Output Shape              Param #   \n",
            "=================================================================\n",
            " rescaling_1 (Rescaling)     (None, 28, 28, 1)         0         \n",
            "                                                                 \n",
            " conv2d_2 (Conv2D)           (None, 28, 28, 64)        640       \n",
            "                                                                 \n",
            " conv2d_3 (Conv2D)           (None, 28, 28, 64)        36928     \n",
            "                                                                 \n",
            " max_pooling2d_2 (MaxPooling  (None, 14, 14, 64)       0         \n",
            " 2D)                                                             \n",
            "                                                                 \n",
            " batch_normalization (BatchN  (None, 14, 14, 64)       256       \n",
            " ormalization)                                                   \n",
            "                                                                 \n",
            " conv2d_4 (Conv2D)           (None, 14, 14, 128)       73856     \n",
            "                                                                 \n",
            " conv2d_5 (Conv2D)           (None, 14, 14, 128)       147584    \n",
            "                                                                 \n",
            " conv2d_6 (Conv2D)           (None, 14, 14, 128)       147584    \n",
            "                                                                 \n",
            " max_pooling2d_3 (MaxPooling  (None, 7, 7, 128)        0         \n",
            " 2D)                                                             \n",
            "                                                                 \n",
            " batch_normalization_1 (Batc  (None, 7, 7, 128)        512       \n",
            " hNormalization)                                                 \n",
            "                                                                 \n",
            " conv2d_7 (Conv2D)           (None, 7, 7, 256)         295168    \n",
            "                                                                 \n",
            " conv2d_8 (Conv2D)           (None, 7, 7, 256)         590080    \n",
            "                                                                 \n",
            " max_pooling2d_4 (MaxPooling  (None, 3, 3, 256)        0         \n",
            " 2D)                                                             \n",
            "                                                                 \n",
            " batch_normalization_2 (Batc  (None, 3, 3, 256)        1024      \n",
            " hNormalization)                                                 \n",
            "                                                                 \n",
            " flatten_1 (Flatten)         (None, 2304)              0         \n",
            "                                                                 \n",
            " dense_2 (Dense)             (None, 128)               295040    \n",
            "                                                                 \n",
            " dense_3 (Dense)             (None, 10)                1290      \n",
            "                                                                 \n",
            "=================================================================\n",
            "Total params: 1,589,962\n",
            "Trainable params: 1,589,066\n",
            "Non-trainable params: 896\n",
            "_________________________________________________________________\n"
          ]
        }
      ],
      "source": [
        "model1.summary()"
      ]
    },
    {
      "cell_type": "code",
      "execution_count": 14,
      "metadata": {
        "colab": {
          "base_uri": "https://localhost:8080/"
        },
        "id": "n4BL_3-hhZOa",
        "outputId": "c40739b5-e980-4b12-8492-d2459e83177f"
      },
      "outputs": [
        {
          "name": "stdout",
          "output_type": "stream",
          "text": [
            "Epoch 1/50\n",
            "59/59 [==============================] - 10s 131ms/step - loss: 0.6013 - accuracy: 0.7964 - val_loss: 2.6302 - val_accuracy: 0.1800\n",
            "Epoch 2/50\n",
            "59/59 [==============================] - 6s 95ms/step - loss: 0.2795 - accuracy: 0.8962 - val_loss: 2.8167 - val_accuracy: 0.1864\n",
            "Epoch 3/50\n",
            "59/59 [==============================] - 6s 95ms/step - loss: 0.2239 - accuracy: 0.9172 - val_loss: 3.0983 - val_accuracy: 0.2138\n",
            "Epoch 4/50\n",
            "59/59 [==============================] - 6s 95ms/step - loss: 0.1851 - accuracy: 0.9320 - val_loss: 3.1412 - val_accuracy: 0.1921\n",
            "Epoch 5/50\n",
            "59/59 [==============================] - 6s 95ms/step - loss: 0.1596 - accuracy: 0.9411 - val_loss: 3.1225 - val_accuracy: 0.2350\n",
            "Epoch 6/50\n",
            "59/59 [==============================] - 6s 95ms/step - loss: 0.1310 - accuracy: 0.9514 - val_loss: 2.4834 - val_accuracy: 0.2753\n",
            "Epoch 7/50\n",
            "59/59 [==============================] - 6s 95ms/step - loss: 0.1123 - accuracy: 0.9585 - val_loss: 1.3515 - val_accuracy: 0.5278\n",
            "Epoch 8/50\n",
            "59/59 [==============================] - 6s 95ms/step - loss: 0.0902 - accuracy: 0.9670 - val_loss: 0.7373 - val_accuracy: 0.7452\n",
            "Epoch 9/50\n",
            "59/59 [==============================] - 6s 95ms/step - loss: 0.0694 - accuracy: 0.9757 - val_loss: 0.6144 - val_accuracy: 0.7984\n",
            "Epoch 10/50\n",
            "59/59 [==============================] - 6s 95ms/step - loss: 0.0512 - accuracy: 0.9821 - val_loss: 0.3955 - val_accuracy: 0.8784\n",
            "Epoch 11/50\n",
            "59/59 [==============================] - 6s 95ms/step - loss: 0.0409 - accuracy: 0.9856 - val_loss: 0.2993 - val_accuracy: 0.9154\n",
            "Epoch 12/50\n",
            "59/59 [==============================] - 6s 95ms/step - loss: 0.0359 - accuracy: 0.9871 - val_loss: 0.4011 - val_accuracy: 0.8959\n",
            "Epoch 13/50\n",
            "59/59 [==============================] - 6s 95ms/step - loss: 0.0342 - accuracy: 0.9882 - val_loss: 0.2788 - val_accuracy: 0.9240\n",
            "Epoch 14/50\n",
            "59/59 [==============================] - 6s 95ms/step - loss: 0.0274 - accuracy: 0.9907 - val_loss: 0.2914 - val_accuracy: 0.9242\n",
            "Epoch 15/50\n",
            "59/59 [==============================] - 6s 95ms/step - loss: 0.0191 - accuracy: 0.9936 - val_loss: 0.3223 - val_accuracy: 0.9227\n",
            "Epoch 16/50\n",
            "59/59 [==============================] - 6s 95ms/step - loss: 0.0133 - accuracy: 0.9962 - val_loss: 0.3734 - val_accuracy: 0.9209\n",
            "Epoch 17/50\n",
            "59/59 [==============================] - 6s 95ms/step - loss: 0.0138 - accuracy: 0.9955 - val_loss: 0.3355 - val_accuracy: 0.9252\n",
            "Epoch 18/50\n",
            "59/59 [==============================] - 6s 95ms/step - loss: 0.0144 - accuracy: 0.9953 - val_loss: 0.4380 - val_accuracy: 0.9136\n",
            "Epoch 19/50\n",
            "59/59 [==============================] - 6s 95ms/step - loss: 0.0108 - accuracy: 0.9965 - val_loss: 0.3458 - val_accuracy: 0.9288\n",
            "Epoch 20/50\n",
            "59/59 [==============================] - 6s 95ms/step - loss: 0.0174 - accuracy: 0.9941 - val_loss: 0.3996 - val_accuracy: 0.9184\n",
            "Epoch 21/50\n",
            "59/59 [==============================] - 6s 95ms/step - loss: 0.0248 - accuracy: 0.9911 - val_loss: 0.3908 - val_accuracy: 0.9137\n",
            "Epoch 22/50\n",
            "59/59 [==============================] - 6s 95ms/step - loss: 0.0261 - accuracy: 0.9907 - val_loss: 0.3472 - val_accuracy: 0.9247\n",
            "Epoch 23/50\n",
            "59/59 [==============================] - 6s 95ms/step - loss: 0.0212 - accuracy: 0.9925 - val_loss: 0.3747 - val_accuracy: 0.9168\n",
            "Epoch 24/50\n",
            "59/59 [==============================] - 6s 95ms/step - loss: 0.0197 - accuracy: 0.9930 - val_loss: 0.3747 - val_accuracy: 0.9211\n",
            "Epoch 25/50\n",
            "59/59 [==============================] - 6s 95ms/step - loss: 0.0167 - accuracy: 0.9941 - val_loss: 0.3485 - val_accuracy: 0.9295\n",
            "Epoch 26/50\n",
            "59/59 [==============================] - 6s 95ms/step - loss: 0.0137 - accuracy: 0.9955 - val_loss: 0.3679 - val_accuracy: 0.9228\n",
            "Epoch 27/50\n",
            "59/59 [==============================] - 6s 95ms/step - loss: 0.0104 - accuracy: 0.9964 - val_loss: 0.3471 - val_accuracy: 0.9303\n",
            "Epoch 28/50\n",
            "59/59 [==============================] - 6s 95ms/step - loss: 0.0071 - accuracy: 0.9977 - val_loss: 0.3791 - val_accuracy: 0.9259\n",
            "Epoch 29/50\n",
            "59/59 [==============================] - 6s 95ms/step - loss: 0.0065 - accuracy: 0.9980 - val_loss: 0.3982 - val_accuracy: 0.9270\n",
            "Epoch 30/50\n",
            "59/59 [==============================] - 6s 95ms/step - loss: 0.0053 - accuracy: 0.9982 - val_loss: 0.4173 - val_accuracy: 0.9256\n",
            "Epoch 31/50\n",
            "59/59 [==============================] - 6s 95ms/step - loss: 0.0042 - accuracy: 0.9986 - val_loss: 0.3964 - val_accuracy: 0.9265\n",
            "Epoch 32/50\n",
            "59/59 [==============================] - 6s 95ms/step - loss: 0.0072 - accuracy: 0.9976 - val_loss: 0.4426 - val_accuracy: 0.9257\n",
            "Epoch 33/50\n",
            "59/59 [==============================] - 6s 95ms/step - loss: 0.0157 - accuracy: 0.9943 - val_loss: 0.4313 - val_accuracy: 0.9181\n",
            "Epoch 34/50\n",
            "59/59 [==============================] - 6s 95ms/step - loss: 0.0300 - accuracy: 0.9892 - val_loss: 0.4539 - val_accuracy: 0.9128\n",
            "Epoch 35/50\n",
            "59/59 [==============================] - 6s 95ms/step - loss: 0.0272 - accuracy: 0.9901 - val_loss: 0.4365 - val_accuracy: 0.9102\n",
            "Epoch 36/50\n",
            "59/59 [==============================] - 6s 95ms/step - loss: 0.0219 - accuracy: 0.9922 - val_loss: 0.4775 - val_accuracy: 0.9119\n",
            "Epoch 37/50\n",
            "59/59 [==============================] - 6s 95ms/step - loss: 0.0179 - accuracy: 0.9936 - val_loss: 0.3960 - val_accuracy: 0.9219\n",
            "Epoch 38/50\n",
            "59/59 [==============================] - 6s 95ms/step - loss: 0.0119 - accuracy: 0.9958 - val_loss: 0.3781 - val_accuracy: 0.9305\n",
            "Epoch 39/50\n",
            "59/59 [==============================] - 6s 95ms/step - loss: 0.0063 - accuracy: 0.9979 - val_loss: 0.3940 - val_accuracy: 0.9308\n",
            "Epoch 40/50\n",
            "59/59 [==============================] - 6s 95ms/step - loss: 0.0026 - accuracy: 0.9993 - val_loss: 0.3976 - val_accuracy: 0.9313\n",
            "Epoch 41/50\n",
            "59/59 [==============================] - 6s 95ms/step - loss: 7.5134e-04 - accuracy: 0.9999 - val_loss: 0.3979 - val_accuracy: 0.9340\n",
            "Epoch 42/50\n",
            "59/59 [==============================] - 6s 95ms/step - loss: 2.0626e-04 - accuracy: 1.0000 - val_loss: 0.4019 - val_accuracy: 0.9365\n",
            "Epoch 43/50\n",
            "59/59 [==============================] - 6s 95ms/step - loss: 6.9156e-05 - accuracy: 1.0000 - val_loss: 0.4041 - val_accuracy: 0.9372\n",
            "Epoch 44/50\n",
            "59/59 [==============================] - 6s 95ms/step - loss: 4.3956e-05 - accuracy: 1.0000 - val_loss: 0.4099 - val_accuracy: 0.9377\n",
            "Epoch 45/50\n",
            "59/59 [==============================] - 6s 95ms/step - loss: 3.6810e-05 - accuracy: 1.0000 - val_loss: 0.4137 - val_accuracy: 0.9374\n",
            "Epoch 46/50\n",
            "59/59 [==============================] - 6s 95ms/step - loss: 3.1945e-05 - accuracy: 1.0000 - val_loss: 0.4167 - val_accuracy: 0.9371\n",
            "Epoch 47/50\n",
            "59/59 [==============================] - 6s 95ms/step - loss: 2.8464e-05 - accuracy: 1.0000 - val_loss: 0.4192 - val_accuracy: 0.9372\n",
            "Epoch 48/50\n",
            "59/59 [==============================] - 6s 95ms/step - loss: 2.5632e-05 - accuracy: 1.0000 - val_loss: 0.4209 - val_accuracy: 0.9372\n",
            "Epoch 49/50\n",
            "59/59 [==============================] - 6s 95ms/step - loss: 2.3412e-05 - accuracy: 1.0000 - val_loss: 0.4230 - val_accuracy: 0.9374\n",
            "Epoch 50/50\n",
            "59/59 [==============================] - 6s 95ms/step - loss: 2.1478e-05 - accuracy: 1.0000 - val_loss: 0.4245 - val_accuracy: 0.9376\n"
          ]
        }
      ],
      "source": [
        "result1 = model1.fit(trainX, trainY, validation_data=(testX, testY), epochs=50, batch_size=1024)"
      ]
    },
    {
      "cell_type": "code",
      "execution_count": 15,
      "metadata": {
        "colab": {
          "base_uri": "https://localhost:8080/",
          "height": 403
        },
        "id": "Wh68TJJahZOa",
        "outputId": "2d8169d1-cee1-493e-8bd2-3994bad70e7b"
      },
      "outputs": [
        {
          "data": {
            "image/png": "[encoded data removed]",
            "text/plain": [
              "<Figure size 864x432 with 2 Axes>"
            ]
          },
          "metadata": {
            "needs_background": "light"
          },
          "output_type": "display_data"
        }
      ],
      "source": [
        "plotLossAccGraph(result1)"
      ]
    },
    {
      "cell_type": "code",
      "execution_count": 16,
      "metadata": {
        "id": "j0r_Dp_kjwIo"
      },
      "outputs": [],
      "source": [
        "model1.save(\"mnist_model.h5\")"
      ]
    },
    {
      "cell_type": "code",
      "execution_count": null,
      "metadata": {
        "id": "CgXhL52TE5ez"
      },
      "outputs": [],
      "source": []
    }
  ],
  "metadata": {
    "accelerator": "GPU",
    "colab": {
      "machine_shape": "hm",
      "name": "V1.ipynb",
      "provenance": []
    },
    "interpreter": {
      "hash": "1540c76d30b1af6ad410dda6d61bebe77544e2f3c1a272e4083818637a64b89a"
    },
    "kernelspec": {
      "display_name": "Python 3.9.0 64-bit ('tf2.6': conda)",
      "name": "python3"
    },
    "language_info": {
      "codemirror_mode": {
        "name": "ipython",
        "version": 3
      },
      "file_extension": ".py",
      "mimetype": "text/x-python",
      "name": "python",
      "nbconvert_exporter": "python",
      "pygments_lexer": "ipython3",
      "version": "3.9.0"
    },
    "orig_nbformat": 4
  },
  "nbformat": 4,
  "nbformat_minor": 0
}
